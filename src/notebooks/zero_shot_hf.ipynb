{
 "cells": [
  {
   "cell_type": "code",
   "execution_count": null,
   "metadata": {},
   "outputs": [],
   "source": [
    "from transformers import pipeline\n",
    "\n",
    "# Load the zero-shot classification pipeline\n",
    "classifier = pipeline(\"zero-shot-classification\")\n",
    "\n",
    "# Define your input text and possible labels (classes)\n",
    "input_text = \"Astronomy is the study of stars and planets.\"\n",
    "possible_labels = [\"Science\", \"History\", \"Sports\"]\n",
    "\n",
    "# Perform zero-shot classification\n",
    "result = classifier(input_text, possible_labels)\n",
    "\n",
    "# Print the result\n",
    "print(\"Input Text:\", input_text)\n",
    "print(\"Predicted Class:\", result[\"labels\"][0])\n",
    "print(\"Confidence Score:\", result[\"scores\"][0])"
   ]
  }
 ],
 "metadata": {
  "language_info": {
   "name": "python"
  }
 },
 "nbformat": 4,
 "nbformat_minor": 2
}
